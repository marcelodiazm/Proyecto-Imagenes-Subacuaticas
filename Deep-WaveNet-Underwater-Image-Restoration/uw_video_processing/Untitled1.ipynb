{
  "nbformat": 4,
  "nbformat_minor": 0,
  "metadata": {
    "colab": {
      "provenance": []
    },
    "kernelspec": {
      "name": "python3",
      "display_name": "Python 3"
    },
    "language_info": {
      "name": "python"
    },
    "gpuClass": "standard",
    "accelerator": "GPU"
  },
  "cells": [
    {
      "cell_type": "code",
      "source": [
        "  cd /content/drive/MyDrive/Deep-WaveNet-Underwater-Image-Restoration/installation"
      ],
      "metadata": {
        "id": "JPoomZAWWkB6",
        "colab": {
          "base_uri": "https://localhost:8080/"
        },
        "outputId": "72fdb8e2-b2f4-44eb-a202-419d7cca48f1"
      },
      "execution_count": null,
      "outputs": [
        {
          "output_type": "stream",
          "name": "stdout",
          "text": [
            "[Errno 2] No such file or directory: '/content/drive/MyDrive/Deep-WaveNet-Underwater-Image-Restoration/installation'\n",
            "/content\n"
          ]
        }
      ]
    },
    {
      "cell_type": "code",
      "source": [
        "ls"
      ],
      "metadata": {
        "colab": {
          "base_uri": "https://localhost:8080/"
        },
        "id": "RirMgg_Q26H4",
        "outputId": "e55f8dbe-6512-4cfa-9251-7ccc7fa44eb4"
      },
      "execution_count": null,
      "outputs": [
        {
          "output_type": "stream",
          "name": "stdout",
          "text": [
            "\u001b[0m\u001b[01;34mbin\u001b[0m/      \u001b[01;34mdev\u001b[0m/   \u001b[01;34mlib32\u001b[0m/  NGC-DL-CONTAINER-LICENSE  \u001b[01;34mroot\u001b[0m/  \u001b[01;34msys\u001b[0m/    \u001b[01;34mvar\u001b[0m/\n",
            "\u001b[01;34mboot\u001b[0m/     \u001b[01;34metc\u001b[0m/   \u001b[01;34mlib64\u001b[0m/  \u001b[01;34mopt\u001b[0m/                      \u001b[01;34mrun\u001b[0m/   \u001b[30;42mtmp\u001b[0m/\n",
            "\u001b[01;34mcontent\u001b[0m/  \u001b[01;34mhome\u001b[0m/  \u001b[01;34mmedia\u001b[0m/  \u001b[01;34mproc\u001b[0m/                     \u001b[01;34msbin\u001b[0m/  \u001b[01;34mtools\u001b[0m/\n",
            "\u001b[01;34mdatalab\u001b[0m/  \u001b[01;34mlib\u001b[0m/   \u001b[01;34mmnt\u001b[0m/    \u001b[01;34mpython-apt\u001b[0m/               \u001b[01;34msrv\u001b[0m/   \u001b[01;34musr\u001b[0m/\n"
          ]
        }
      ]
    },
    {
      "cell_type": "code",
      "source": [
        "!pip install -r requirements.txt"
      ],
      "metadata": {
        "id": "TuFXPUepLmsU"
      },
      "execution_count": null,
      "outputs": []
    },
    {
      "cell_type": "code",
      "source": [
        "from google.colab import drive\n",
        "drive.mount('/content/drive')"
      ],
      "metadata": {
        "colab": {
          "base_uri": "https://localhost:8080/"
        },
        "id": "akT-ylJLKvvH",
        "outputId": "a533816f-e0d4-4938-d4d4-6bdff08ea12e"
      },
      "execution_count": null,
      "outputs": [
        {
          "output_type": "stream",
          "name": "stdout",
          "text": [
            "Mounted at /content/drive\n"
          ]
        }
      ]
    },
    {
      "cell_type": "code",
      "source": [
        "cd /content/drive/MyDrive/Deep-WaveNet-Underwater-Image-Restoration/uw_video_processing"
      ],
      "metadata": {
        "colab": {
          "base_uri": "https://localhost:8080/"
        },
        "id": "AqUmeRN3RDbm",
        "outputId": "ab878781-7591-4625-95fd-5aa5592cf259"
      },
      "execution_count": null,
      "outputs": [
        {
          "output_type": "stream",
          "name": "stdout",
          "text": [
            "/content/drive/.shortcut-targets-by-id/1-5MM2YiGpVv3hL_Sigw3zmrnbS79_Mwq/Deep-WaveNet-Underwater-Image-Restoration/uw_video_processing\n"
          ]
        }
      ]
    },
    {
      "cell_type": "code",
      "source": [
        "ls"
      ],
      "metadata": {
        "colab": {
          "base_uri": "https://localhost:8080/"
        },
        "id": "-g1siuYr3fmX",
        "outputId": "a84b139c-2f4e-4432-9532-4126f2f3f2c3"
      },
      "execution_count": null,
      "outputs": [
        {
          "output_type": "stream",
          "name": "stdout",
          "text": [
            " \u001b[0m\u001b[01;34mckpts\u001b[0m/\n",
            " degraded_video.mp4\n",
            " enhanced_video_1.avi\n",
            " \u001b[01;34mfacades\u001b[0m/\n",
            " \u001b[01;34mframes\u001b[0m/\n",
            " models.py\n",
            " out_3.avi\n",
            " out.avi\n",
            " \u001b[01;34m__pycache__\u001b[0m/\n",
            " \u001b[01;34mtest_frames\u001b[0m/\n",
            " test.py\n",
            " video_yt.mp4\n",
            "'Y2Mate.is - Best fishing moments underwater compilation!-RtekprX8h38-1080p-1660237211468.mp4'\n"
          ]
        }
      ]
    },
    {
      "cell_type": "code",
      "source": [
        "!python test.py"
      ],
      "metadata": {
        "id": "nV8kjAAN-G_d"
      },
      "execution_count": null,
      "outputs": []
    },
    {
      "cell_type": "code",
      "source": [
        "import cv2\n",
        "def frames_to_video(noisy_video, clean_video, save_path, fps):\n",
        "   image_array = []\n",
        "   for i in range(len(noisy_video)):\n",
        "       \n",
        "       noisy_img = noisy_video[i]\n",
        "       clean_img = clean_video[i]\n",
        "\n",
        "       #h_img = cv2.hconcat([noisy_img, clean_img])\n",
        "       size =  (clean_img.shape[1], clean_img.shape[0])\n",
        "\n",
        "       image_array.append(clean_img)\n",
        "       #cv2.imwrite('/content/drive/MyDrive/Deep-WaveNet-Underwater-Image-Restoration/uw_video_processing/frames/'+str(i)+'.jpg', clean_img)\n",
        "       #print(i)\n",
        "\n",
        "   fourcc = cv2.VideoWriter_fourcc('D', 'I', 'V', 'X')\n",
        "   out = cv2.VideoWriter(save_path,fourcc, fps, size)\n",
        "   for i in range(len(image_array)):\n",
        "       out.write(image_array[i])\n",
        "\n",
        "   # cv2.destroyAllWindows()\n",
        "   out.release()\n",
        "   print('Done')\n",
        "\n",
        "outpath =  './enhanced_video_1.avi'\n",
        "fps = 60\n",
        "path = \"/content/drive/MyDrive/Deep-WaveNet-Underwater-Image-Restoration/uw_video_processing/facades/video/enhanced_frames/\"\n",
        "frames = []\n",
        "\n",
        "i = 0\n",
        "for i in range(1372):\n",
        "    img = cv2.imread(path+str(i)+\".png\")\n",
        "    frames.append(img)\n",
        "    i += 1\n",
        "frames_to_video(frames,frames,outpath,fps)"
      ],
      "metadata": {
        "colab": {
          "base_uri": "https://localhost:8080/"
        },
        "id": "PNecd7JJGRQR",
        "outputId": "7e52d22b-1b75-4e7b-a80f-ec7ad1fa4c7a"
      },
      "execution_count": null,
      "outputs": [
        {
          "output_type": "stream",
          "name": "stdout",
          "text": [
            "Done\n"
          ]
        }
      ]
    },
    {
      "cell_type": "code",
      "source": [
        "cd /content/drive/MyDrive/PDI/Sea Thru"
      ],
      "metadata": {
        "colab": {
          "base_uri": "https://localhost:8080/"
        },
        "id": "x239BX6tOf33",
        "outputId": "257cb3e0-4a9f-41de-b1bc-0454bd43dac7"
      },
      "execution_count": null,
      "outputs": [
        {
          "output_type": "stream",
          "name": "stdout",
          "text": [
            "/content/drive/.shortcut-targets-by-id/1Dm3m4id4bXwDQOHWC8b4lTFhGZfI3D-w/PDI/Sea Thru\n"
          ]
        }
      ]
    },
    {
      "cell_type": "code",
      "source": [
        "!pip install -r requirements.txt"
      ],
      "metadata": {
        "colab": {
          "base_uri": "https://localhost:8080/"
        },
        "id": "X11R0KoIOlwr",
        "outputId": "8929062d-6d12-4c74-e21b-4c6e7c6f9a5b"
      },
      "execution_count": null,
      "outputs": [
        {
          "output_type": "stream",
          "name": "stdout",
          "text": [
            "Looking in indexes: https://pypi.org/simple, https://us-python.pkg.dev/colab-wheels/public/simple/\n",
            "Requirement already satisfied: scikit-learn in /usr/local/lib/python3.8/dist-packages (from -r requirements.txt (line 1)) (1.0.2)\n",
            "Requirement already satisfied: numpy in /usr/local/lib/python3.8/dist-packages (from -r requirements.txt (line 2)) (1.21.6)\n",
            "Requirement already satisfied: matplotlib in /usr/local/lib/python3.8/dist-packages (from -r requirements.txt (line 3)) (3.2.2)\n",
            "Requirement already satisfied: pillow in /usr/local/lib/python3.8/dist-packages (from -r requirements.txt (line 4)) (7.1.2)\n",
            "Requirement already satisfied: scipy in /usr/local/lib/python3.8/dist-packages (from -r requirements.txt (line 5)) (1.7.3)\n",
            "Collecting rawpy\n",
            "  Downloading rawpy-0.17.3-cp38-cp38-manylinux_2_17_x86_64.manylinux2014_x86_64.whl (1.9 MB)\n",
            "\u001b[K     |████████████████████████████████| 1.9 MB 5.1 MB/s \n",
            "\u001b[?25hRequirement already satisfied: scikit-image in /usr/local/lib/python3.8/dist-packages (from -r requirements.txt (line 7)) (0.18.3)\n",
            "Requirement already satisfied: torch in /usr/local/lib/python3.8/dist-packages (from -r requirements.txt (line 8)) (1.12.1+cu113)\n",
            "Requirement already satisfied: torchvision in /usr/local/lib/python3.8/dist-packages (from -r requirements.txt (line 9)) (0.13.1+cu113)\n",
            "Requirement already satisfied: pyyaml in /usr/local/lib/python3.8/dist-packages (from -r requirements.txt (line 10)) (6.0)\n",
            "Requirement already satisfied: joblib>=0.11 in /usr/local/lib/python3.8/dist-packages (from scikit-learn->-r requirements.txt (line 1)) (1.2.0)\n",
            "Requirement already satisfied: threadpoolctl>=2.0.0 in /usr/local/lib/python3.8/dist-packages (from scikit-learn->-r requirements.txt (line 1)) (3.1.0)\n",
            "Requirement already satisfied: cycler>=0.10 in /usr/local/lib/python3.8/dist-packages (from matplotlib->-r requirements.txt (line 3)) (0.11.0)\n",
            "Requirement already satisfied: python-dateutil>=2.1 in /usr/local/lib/python3.8/dist-packages (from matplotlib->-r requirements.txt (line 3)) (2.8.2)\n",
            "Requirement already satisfied: pyparsing!=2.0.4,!=2.1.2,!=2.1.6,>=2.0.1 in /usr/local/lib/python3.8/dist-packages (from matplotlib->-r requirements.txt (line 3)) (3.0.9)\n",
            "Requirement already satisfied: kiwisolver>=1.0.1 in /usr/local/lib/python3.8/dist-packages (from matplotlib->-r requirements.txt (line 3)) (1.4.4)\n",
            "Requirement already satisfied: six>=1.5 in /usr/local/lib/python3.8/dist-packages (from python-dateutil>=2.1->matplotlib->-r requirements.txt (line 3)) (1.15.0)\n",
            "Requirement already satisfied: imageio>=2.3.0 in /usr/local/lib/python3.8/dist-packages (from scikit-image->-r requirements.txt (line 7)) (2.9.0)\n",
            "Requirement already satisfied: tifffile>=2019.7.26 in /usr/local/lib/python3.8/dist-packages (from scikit-image->-r requirements.txt (line 7)) (2021.11.2)\n",
            "Requirement already satisfied: PyWavelets>=1.1.1 in /usr/local/lib/python3.8/dist-packages (from scikit-image->-r requirements.txt (line 7)) (1.3.0)\n",
            "Requirement already satisfied: networkx>=2.0 in /usr/local/lib/python3.8/dist-packages (from scikit-image->-r requirements.txt (line 7)) (2.6.3)\n",
            "Requirement already satisfied: typing-extensions in /usr/local/lib/python3.8/dist-packages (from torch->-r requirements.txt (line 8)) (4.1.1)\n",
            "Requirement already satisfied: requests in /usr/local/lib/python3.8/dist-packages (from torchvision->-r requirements.txt (line 9)) (2.23.0)\n",
            "Requirement already satisfied: certifi>=2017.4.17 in /usr/local/lib/python3.8/dist-packages (from requests->torchvision->-r requirements.txt (line 9)) (2022.9.24)\n",
            "Requirement already satisfied: chardet<4,>=3.0.2 in /usr/local/lib/python3.8/dist-packages (from requests->torchvision->-r requirements.txt (line 9)) (3.0.4)\n",
            "Requirement already satisfied: urllib3!=1.25.0,!=1.25.1,<1.26,>=1.21.1 in /usr/local/lib/python3.8/dist-packages (from requests->torchvision->-r requirements.txt (line 9)) (1.24.3)\n",
            "Requirement already satisfied: idna<3,>=2.5 in /usr/local/lib/python3.8/dist-packages (from requests->torchvision->-r requirements.txt (line 9)) (2.10)\n",
            "Installing collected packages: rawpy\n",
            "Successfully installed rawpy-0.17.3\n"
          ]
        }
      ]
    },
    {
      "cell_type": "code",
      "source": [
        "import cv2\n",
        "import os\n",
        "def get_frames(video_path):\n",
        "    vid_frames = []\n",
        "    vid = cv2.VideoCapture(video_path)\n",
        "    #for frame identity\n",
        "    index = 0\n",
        "    while(True):\n",
        "        # Extract images\n",
        "        ret, frame = vid.read()\n",
        "        # end of frames\n",
        "        if not ret: \n",
        "            break\n",
        "        # Saves images\n",
        "        name = './test_frames/'+ str(index) + '.png'\n",
        "        print ('Creating...' + name)\n",
        "        cv2.imwrite(name, frame)\n",
        "        vid_frames.append(frame)\n",
        "\n",
        "        # next frame\n",
        "        index += 1\n",
        "    return vid_frames\n",
        "\n",
        "def limpiar(list):\n",
        "    i = 0\n",
        "    path_salida = \"./o_frames/\"\n",
        "    for i in range(len(list)):\n",
        "        cmd = \"python seathru-mono-e2e.py --monodepth-add-depth 1.0 --monodepth-multiply-depth 3.0 --image ./test_frames/\"+str(i)+\".png  --output \" +path_salida+str(i)+\".png\"\n",
        "        os.system(cmd)\n",
        "        i+=1\n",
        "\n",
        "def frames_to_video(noisy_video, clean_video, save_path, fps):\n",
        "   image_array = []\n",
        "   for i in range(len(noisy_video)):\n",
        "       \n",
        "       noisy_img = noisy_video[i]\n",
        "       clean_img = clean_video[i]\n",
        "\n",
        "       #h_img = cv2.hconcat([noisy_img, clean_img])\n",
        "       size =  (clean_img.shape[1], clean_img.shape[0])\n",
        "\n",
        "       image_array.append(clean_img)\n",
        "       cv2.imwrite('/content/drive/MyDrive/Deep-WaveNet-Underwater-Image-Restoration/uw_video_processing/frames/'+str(i)+'.jpg', clean_img)\n",
        "       #print(i)\n",
        "\n",
        "   fourcc = cv2.VideoWriter_fourcc('D', 'I', 'V', 'X')\n",
        "   out = cv2.VideoWriter(save_path,fourcc, fps, size)\n",
        "   for i in range(len(image_array)):\n",
        "       out.write(image_array[i])\n",
        "\n",
        "   # cv2.destroyAllWindows()\n",
        "   out.release()\n",
        "   print('Done')\n",
        "\n",
        "\n",
        "\n",
        "frames = get_frames(\"/video.mp4\")\n",
        "limpiar(frames)\n",
        "\n",
        "outpath =  './enhanced_video_1.avi'\n",
        "fps = 30\n",
        "path = \"/content/drive/MyDrive/PDI/Sea Thru/o_frames\"\n",
        "frames = []\n",
        "i = 0\n",
        "total_files = os.listdir('./o_frames/')\n",
        "for i in range(1372):\n",
        "    img = cv2.imread(path+str(i)+\".png\")\n",
        "    frames.append(img)\n",
        "    i += 1\n",
        "frames_to_video(frames,frames,outpath,fps)"
      ],
      "metadata": {
        "id": "M4H832_QmSl8"
      },
      "execution_count": null,
      "outputs": []
    },
    {
      "cell_type": "code",
      "source": [],
      "metadata": {
        "id": "tBvdiKmd4mAk"
      },
      "execution_count": null,
      "outputs": []
    }
  ]
}